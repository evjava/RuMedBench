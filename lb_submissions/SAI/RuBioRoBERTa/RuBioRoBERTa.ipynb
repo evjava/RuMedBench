{
 "cells": [
  {
   "cell_type": "code",
   "execution_count": 1,
   "id": "4508d045",
   "metadata": {},
   "outputs": [],
   "source": [
    "# -*- coding: utf-8 -*-\n",
    "import gc\n",
    "import os\n",
    "os.environ['CUDA_VISIBLE_DEVICES'] = '0'\n",
    "import pandas as pd\n",
    "import numpy as np\n",
    "import json\n",
    "import click\n",
    "import pathlib\n",
    "import ipynb\n",
    "\n",
    "import torch\n",
    "from torch.utils.data import TensorDataset, DataLoader, RandomSampler, SequentialSampler\n",
    "\n",
    "from transformers import BertTokenizer, BertConfig, AutoTokenizer\n",
    "from transformers.optimization import AdamW\n",
    "from transformers import RobertaForSequenceClassification\n",
    "\n",
    "from scipy.special import expit\n",
    "from keras.preprocessing.sequence import pad_sequences\n",
    "from sklearn import metrics\n",
    "\n",
    "from ipynb.fs.full.utils import seed_everything, seed_worker"
   ]
  },
  {
   "cell_type": "code",
   "execution_count": 2,
   "id": "1af6fbb1",
   "metadata": {},
   "outputs": [],
   "source": [
    "import warnings\n",
    "warnings.filterwarnings('ignore')\n",
    "warnings.simplefilter('ignore')"
   ]
  },
  {
   "cell_type": "code",
   "execution_count": 3,
   "id": "78f49b8f",
   "metadata": {},
   "outputs": [],
   "source": [
    "def encode_text_pairs(tokenizer, sentences):\n",
    "    bs = 20000\n",
    "    input_ids, attention_masks, token_type_ids = [], [], []\n",
    "    \n",
    "    text1_max = int(MAX_LEN*.75) #leave 75% of token lens to premise text\n",
    "    for _, i in enumerate(range(0, len(sentences), bs)):\n",
    "        tokenized_texts = []\n",
    "        for sentence in sentences[i:i+bs]:\n",
    "            p1 = [' ']+tokenizer.tokenize( sentence[0] )\n",
    "            p2 = [' ']+tokenizer.tokenize( sentence[1] )+[' ']\n",
    "            text2_max = MAX_LEN-len(p1[:text1_max])\n",
    "            final_tokens = p1[:text1_max]+p2[:text2_max]\n",
    "            arr = np.array(final_tokens)\n",
    "            tokenized_texts.append(final_tokens)\n",
    "\n",
    "        b_input_ids = [tokenizer.convert_tokens_to_ids(x) for x in tokenized_texts]\n",
    "\n",
    "        b_input_ids = pad_sequences(b_input_ids, maxlen=MAX_LEN, dtype='long', truncating='post', padding='post')\n",
    "\n",
    "        b_token_type_ids = []\n",
    "        for i, row in enumerate(b_input_ids):\n",
    "            row = np.array(row)\n",
    "            mask = row==tokenizer.convert_tokens_to_ids('[SEP]')\n",
    "            idx = np.where(mask)[0][0]\n",
    "            idx1 = np.where(mask)[0][1]\n",
    "            token_type_row = np.zeros(row.shape[0], dtype=np.int)\n",
    "            token_type_row[idx+1:idx1+1] = 1\n",
    "            b_token_type_ids.append(token_type_row)\n",
    "\n",
    "        b_attention_masks = []\n",
    "        for seq in b_input_ids:\n",
    "            seq_mask = [float(i>0) for i in seq]\n",
    "            b_attention_masks.append(seq_mask)\n",
    "\n",
    "        attention_masks.append(b_attention_masks)\n",
    "        input_ids.append(b_input_ids)\n",
    "        token_type_ids.append(b_token_type_ids)\n",
    "    input_ids, attention_masks = np.vstack(input_ids), np.vstack(attention_masks)\n",
    "    token_type_ids = np.vstack(token_type_ids)\n",
    "\n",
    "    return input_ids, attention_masks, token_type_ids"
   ]
  },
  {
   "cell_type": "code",
   "execution_count": 4,
   "id": "0f611eff",
   "metadata": {},
   "outputs": [],
   "source": [
    "MAX_LEN = 512"
   ]
  },
  {
   "cell_type": "code",
   "execution_count": 5,
   "id": "f433e3a2",
   "metadata": {},
   "outputs": [],
   "source": [
    "SEED = 128\n",
    "seed_everything(SEED)"
   ]
  },
  {
   "cell_type": "code",
   "execution_count": 6,
   "id": "6c3f58f2",
   "metadata": {},
   "outputs": [],
   "source": [
    "task_name = 'RuMedDaNet'\n",
    "data_path = '/media/ssd-3t/phoalss/RuBert'\n",
    "device = \"cuda\" if torch.cuda.is_available() else \"cpu\""
   ]
  },
  {
   "cell_type": "code",
   "execution_count": 7,
   "id": "6bfb2a7a",
   "metadata": {},
   "outputs": [],
   "source": [
    "out_dir = pathlib.Path('.').absolute()\n",
    "data_path = pathlib.Path(data_path).absolute() / task_name\n",
    "\n",
    "parts = ['train', 'dev', 'test']\n",
    "\n",
    "l2i = {'нет': 0, 'да':1} #labels to indices\n",
    "text1_id, text2_id, label_id, index_id = 'context', 'question', 'answer', 'pairID'\n",
    "\n",
    "dummy_label = list(l2i.keys())[0]"
   ]
  },
  {
   "cell_type": "code",
   "execution_count": 8,
   "id": "8550a59e",
   "metadata": {},
   "outputs": [],
   "source": [
    "part2indices = {p:set() for p in parts}\n",
    "all_ids, sentences, labels = [], [], []\n",
    "for p in parts:\n",
    "    fname = '{}.jsonl'.format(p)\n",
    "    with open(os.path.join(data_path, fname)) as f:\n",
    "        for line in f:\n",
    "            data = json.loads(line)\n",
    "            s1, s2 = data[text1_id], data[text2_id]\n",
    "            sentences.append( (s1, s2) )\n",
    "            labels.append( data.get(label_id, dummy_label) )\n",
    "            idx = data[index_id]\n",
    "            all_ids.append( idx )\n",
    "            part2indices[p].add( idx )\n",
    "all_ids = np.array(all_ids)"
   ]
  },
  {
   "cell_type": "code",
   "execution_count": 9,
   "id": "0293216a",
   "metadata": {},
   "outputs": [],
   "source": [
    "i2l = {l2i[l]:l for l in l2i}"
   ]
  },
  {
   "cell_type": "code",
   "execution_count": 10,
   "id": "fc34f844",
   "metadata": {},
   "outputs": [
    {
     "name": "stderr",
     "output_type": "stream",
     "text": [
      "Some weights of the model checkpoint at alexyalunin/RuBioRoBERTa were not used when initializing RobertaForSequenceClassification: ['lm_head.dense.bias', 'lm_head.dense.weight', 'lm_head.layer_norm.bias', 'lm_head.bias', 'lm_head.layer_norm.weight']\n",
      "- This IS expected if you are initializing RobertaForSequenceClassification from the checkpoint of a model trained on another task or with another architecture (e.g. initializing a BertForSequenceClassification model from a BertForPreTraining model).\n",
      "- This IS NOT expected if you are initializing RobertaForSequenceClassification from the checkpoint of a model that you expect to be exactly identical (initializing a BertForSequenceClassification model from a BertForSequenceClassification model).\n",
      "Some weights of RobertaForSequenceClassification were not initialized from the model checkpoint at alexyalunin/RuBioRoBERTa and are newly initialized: ['classifier.dense.bias', 'classifier.out_proj.weight', 'classifier.out_proj.bias', 'classifier.dense.weight']\n",
      "You should probably TRAIN this model on a down-stream task to be able to use it for predictions and inference.\n"
     ]
    }
   ],
   "source": [
    "tokenizer = AutoTokenizer.from_pretrained(\"alexyalunin/RuBioRoBERTa\")\n",
    "model = RobertaForSequenceClassification.from_pretrained('alexyalunin/RuBioRoBERTa')"
   ]
  },
  {
   "cell_type": "code",
   "execution_count": 11,
   "id": "f1d9759c",
   "metadata": {},
   "outputs": [],
   "source": [
    "input_ids, attention_masks, token_type_ids = encode_text_pairs(tokenizer, sentences)"
   ]
  },
  {
   "cell_type": "code",
   "execution_count": 12,
   "id": "d4922f7c",
   "metadata": {},
   "outputs": [],
   "source": [
    "label_indices = np.array([l2i[l] for l in labels])"
   ]
  },
  {
   "cell_type": "code",
   "execution_count": 13,
   "id": "ce504ea8",
   "metadata": {},
   "outputs": [],
   "source": [
    "labels = np.zeros((input_ids.shape[0], len(l2i)))\n",
    "for _, i in enumerate(label_indices):\n",
    "    labels[_, i] = 1"
   ]
  },
  {
   "cell_type": "code",
   "execution_count": 14,
   "id": "836a75fb",
   "metadata": {},
   "outputs": [],
   "source": [
    " # prepare test data loader\n",
    "test_ids = part2indices['test']\n",
    "test_mask = np.array([sid in test_ids for sid in all_ids])\n",
    "test_ids = all_ids[test_mask]\n",
    "tst_inputs, tst_masks, tst_labels = input_ids[test_mask], attention_masks[test_mask], labels[test_mask]\n",
    "tst_type_ids_dev = token_type_ids[test_mask]"
   ]
  },
  {
   "cell_type": "code",
   "execution_count": 15,
   "id": "f0d182aa",
   "metadata": {},
   "outputs": [],
   "source": [
    "tst_inputs = torch.tensor(tst_inputs)\n",
    "tst_masks = torch.tensor(tst_masks)\n",
    "tst_labels = torch.tensor(tst_labels)\n",
    "tst_type_ids_dev = torch.tensor(tst_type_ids_dev)"
   ]
  },
  {
   "cell_type": "code",
   "execution_count": 16,
   "id": "501fd8d4",
   "metadata": {},
   "outputs": [],
   "source": [
    "test_data = TensorDataset(tst_inputs, tst_masks, tst_type_ids_dev, tst_labels)\n",
    "test_sampler = SequentialSampler(test_data)\n",
    "test_dataloader = DataLoader(test_data, sampler=test_sampler, batch_size=8, worker_init_fn=seed_worker)"
   ]
  },
  {
   "cell_type": "code",
   "execution_count": 17,
   "id": "bbaf4ac8",
   "metadata": {},
   "outputs": [],
   "source": [
    "batch_size = 10\n",
    "epochs = 25\n",
    "lr = 2e-5\n",
    "max_grad_norm = 1.0"
   ]
  },
  {
   "cell_type": "code",
   "execution_count": 18,
   "id": "92b4172b",
   "metadata": {},
   "outputs": [],
   "source": [
    "cv_res = {}"
   ]
  },
  {
   "cell_type": "code",
   "execution_count": 19,
   "id": "22e60da3",
   "metadata": {},
   "outputs": [
    {
     "name": "stdout",
     "output_type": "stream",
     "text": [
      "fold 0 (1308, 512) (256, 512)\n",
      "\n",
      "RuMedDaNet epoch 0 average train_loss: 0.698342\tdev_loss: 0.693407\tdev_acc 52.73\n",
      "\n",
      "RuMedDaNet epoch 1 average train_loss: 0.681598\tdev_loss: 0.690867\tdev_acc 54.30\n",
      "\n",
      "RuMedDaNet epoch 2 average train_loss: 0.624111\tdev_loss: 0.537726\tdev_acc 67.58\n",
      "\n",
      "RuMedDaNet epoch 3 average train_loss: 0.445858\tdev_loss: 0.522789\tdev_acc 76.17\n",
      "\n",
      "RuMedDaNet epoch 4 average train_loss: 0.273086\tdev_loss: 0.633157\tdev_acc 77.34\n",
      "\n",
      "RuMedDaNet epoch 5 average train_loss: 0.210369\tdev_loss: 0.961472\tdev_acc 76.56\n",
      "\n",
      "RuMedDaNet epoch 6 average train_loss: 0.147184\tdev_loss: 1.472451\tdev_acc 73.83\n",
      "\n",
      "RuMedDaNet epoch 7 average train_loss: 0.113069\tdev_loss: 1.360306\tdev_acc 76.17\n",
      "\n",
      "RuMedDaNet epoch 8 average train_loss: 0.092563\tdev_loss: 1.554744\tdev_acc 76.95\n",
      "\n",
      "RuMedDaNet epoch 9 average train_loss: 0.035639\tdev_loss: 1.423182\tdev_acc 80.86\n",
      "\n",
      "RuMedDaNet epoch 10 average train_loss: 0.017452\tdev_loss: 1.790215\tdev_acc 76.95\n",
      "\n",
      "RuMedDaNet epoch 11 average train_loss: 0.030521\tdev_loss: 1.648407\tdev_acc 78.12\n",
      "\n",
      "RuMedDaNet epoch 12 average train_loss: 0.002996\tdev_loss: 1.677510\tdev_acc 79.69\n",
      "\n",
      "RuMedDaNet epoch 13 average train_loss: 0.030591\tdev_loss: 1.690352\tdev_acc 78.91\n",
      "\n",
      "RuMedDaNet epoch 14 average train_loss: 0.013126\tdev_loss: 1.695555\tdev_acc 78.52\n",
      "\n",
      "RuMedDaNet epoch 15 average train_loss: 0.013166\tdev_loss: 1.692740\tdev_acc 78.52\n",
      "\n",
      "RuMedDaNet epoch 16 average train_loss: 0.008086\tdev_loss: 1.750301\tdev_acc 78.12\n",
      "\n",
      "RuMedDaNet epoch 17 average train_loss: 0.004277\tdev_loss: 1.785870\tdev_acc 78.12\n",
      "\n",
      "RuMedDaNet epoch 18 average train_loss: 0.000156\tdev_loss: 1.753358\tdev_acc 78.91\n",
      "\n",
      "RuMedDaNet epoch 19 average train_loss: 0.000139\tdev_loss: 1.779644\tdev_acc 78.52\n",
      "\n",
      "RuMedDaNet epoch 20 average train_loss: 0.006623\tdev_loss: 1.708734\tdev_acc 80.47\n",
      "\n",
      "RuMedDaNet epoch 21 average train_loss: 0.000131\tdev_loss: 1.716468\tdev_acc 80.08\n",
      "\n",
      "RuMedDaNet epoch 22 average train_loss: 0.006073\tdev_loss: 1.714013\tdev_acc 80.08\n",
      "\n",
      "RuMedDaNet epoch 23 average train_loss: 0.000126\tdev_loss: 1.716951\tdev_acc 80.08\n",
      "\n",
      "RuMedDaNet epoch 24 average train_loss: 0.000128\tdev_loss: 1.717220\tdev_acc 80.08\n"
     ]
    }
   ],
   "source": [
    "for fold in range(1):\n",
    "    best_dev_score = -1\n",
    "    seed_everything(SEED)\n",
    "    train_ids = part2indices['train']\n",
    "    dev_ids = part2indices['dev']\n",
    "\n",
    "    train_mask = np.array([sid in train_ids for sid in all_ids])\n",
    "    dev_mask = np.array([sid in dev_ids for sid in all_ids])\n",
    "\n",
    "    input_ids_train, attention_masks_train, labels_train = input_ids[train_mask], attention_masks[train_mask], labels[train_mask]\n",
    "    token_type_ids_train = token_type_ids[train_mask]\n",
    "    input_ids_dev, attention_masks_dev, labels_dev = input_ids[dev_mask], attention_masks[dev_mask], labels[dev_mask]\n",
    "    token_type_ids_dev = token_type_ids[dev_mask]\n",
    "    print ('fold', fold, input_ids_train.shape, input_ids_dev.shape)\n",
    "\n",
    "    input_ids_train = torch.tensor(input_ids_train)\n",
    "    attention_masks_train = torch.tensor(attention_masks_train)\n",
    "    labels_train = torch.tensor(labels_train)\n",
    "    token_type_ids_train = torch.tensor(token_type_ids_train)\n",
    "\n",
    "    train_data = TensorDataset(input_ids_train, attention_masks_train, token_type_ids_train, labels_train)\n",
    "    train_sampler = RandomSampler(train_data)\n",
    "    train_dataloader = DataLoader(train_data, sampler=train_sampler, batch_size=batch_size, worker_init_fn=seed_worker)\n",
    "\n",
    "    ##prediction_dataloader\n",
    "    input_ids_dev = torch.tensor(input_ids_dev)\n",
    "    attention_masks_dev = torch.tensor(attention_masks_dev)\n",
    "    labels_dev = torch.tensor(labels_dev)\n",
    "    token_type_ids_dev = torch.tensor(token_type_ids_dev)\n",
    "\n",
    "    prediction_data = TensorDataset(input_ids_dev, attention_masks_dev, token_type_ids_dev, labels_dev)\n",
    "    prediction_sampler = SequentialSampler(prediction_data)\n",
    "    prediction_dataloader = DataLoader(prediction_data, sampler=prediction_sampler, batch_size=batch_size, worker_init_fn=seed_worker)\n",
    "\n",
    "    model = model.to(device)\n",
    "\n",
    "    param_optimizer = list(model.named_parameters())\n",
    "    no_decay = ['bias', 'gamma', 'beta']\n",
    "    optimizer_grouped_parameters = [\n",
    "        {'params': [p for n, p in param_optimizer if not any(nd in n for nd in no_decay)], 'weight_decay_rate': 0.01},\n",
    "        {'params': [p for n, p in param_optimizer if any(nd in n for nd in no_decay)], 'weight_decay_rate': 0.0}\n",
    "    ]\n",
    "\n",
    "    # This variable contains all of the hyperparemeter information our training loop needs\n",
    "    optimizer = AdamW(optimizer_grouped_parameters, lr=lr, correct_bias=False)\n",
    "    scheduler = torch.optim.lr_scheduler.OneCycleLR(optimizer, max_lr=lr, steps_per_epoch=len(train_dataloader), epochs=epochs)\n",
    "\n",
    "    train_loss = []\n",
    "    for _ in range(epochs):\n",
    "        model.train(); torch.cuda.empty_cache()\n",
    "        tr_loss = 0\n",
    "        nb_tr_examples, nb_tr_steps = 0, 0\n",
    "        for step, batch in enumerate(train_dataloader):\n",
    "            batch = tuple(t.to(device) for t in batch)\n",
    "            b_input_ids, b_input_mask, b_token_type_ids, b_labels = batch\n",
    "            b_input_ids, b_input_mask, b_token_type_ids, b_labels = torch.tensor(b_input_ids).to(device), \\\n",
    "            torch.tensor(b_input_mask).to(device), \\\n",
    "            torch.tensor(b_token_type_ids).to(device), \\\n",
    "            torch.tensor(b_labels).to(device)\n",
    "\n",
    "            optimizer.zero_grad()\n",
    "\n",
    "            outputs = model( b_input_ids, attention_mask=b_input_mask, labels=b_labels )\n",
    "            loss, logits = outputs[:2]\n",
    "            train_loss.append(loss.item())\n",
    "            loss.backward()\n",
    "            torch.nn.utils.clip_grad_norm_(model.parameters(), max_grad_norm)\n",
    "            optimizer.step()\n",
    "            scheduler.step()\n",
    "\n",
    "            tr_loss += loss.item()\n",
    "            nb_tr_examples += b_input_ids.size(0)\n",
    "            nb_tr_steps += 1\n",
    "        avg_train_loss = tr_loss/nb_tr_steps\n",
    "\n",
    "        ### val\n",
    "        model.eval()\n",
    "        predictions = []\n",
    "        tr_loss, nb_tr_steps = 0, 0\n",
    "        for step, batch in enumerate(prediction_dataloader):\n",
    "            batch = tuple(t.to(device) for t in batch)\n",
    "            b_input_ids, b_input_mask, b_token_type_ids, b_labels = batch\n",
    "            with torch.no_grad():\n",
    "                outputs = model( b_input_ids, attention_mask=b_input_mask, labels=b_labels )\n",
    "                loss, logits = outputs[:2]\n",
    "                tr_loss += loss.item()\n",
    "                nb_tr_steps += 1\n",
    "            logits = logits.detach().cpu().numpy()\n",
    "            predictions.append(logits)\n",
    "        predictions = expit(np.vstack(predictions))\n",
    "        edev_loss = tr_loss/nb_tr_steps\n",
    "\n",
    "        y_indices, pred = np.argmax(labels_dev, axis=1), np.argmax(predictions, axis=1)\n",
    "        dev_acc = metrics.accuracy_score(y_indices, pred)*100\n",
    "        print()\n",
    "        print ('{} epoch {} average train_loss: {:.6f}\\tdev_loss: {:.6f}\\tdev_acc {:.2f}'.format(task_name, _, avg_train_loss, edev_loss, dev_acc))\n",
    "\n",
    "        if dev_acc>best_dev_score: # compute result for test part and store to out file, if we found better model\n",
    "            best_dev_score = dev_acc\n",
    "            cv_res[fold] = (best_dev_score)\n",
    "\n",
    "            predictions, true_labels = [], []\n",
    "            for batch in test_dataloader:\n",
    "                batch = tuple(t.to(device) for t in batch)\n",
    "                b_input_ids, b_input_mask, b_token_type_ids, b_labels = batch\n",
    "                with torch.no_grad():\n",
    "                    outputs = model( b_input_ids, attention_mask=b_input_mask, labels=b_labels )\n",
    "\n",
    "                logits = outputs[1].detach().cpu().numpy()\n",
    "                label_ids = b_labels.to('cpu').numpy()\n",
    "                predictions.append(logits)\n",
    "                true_labels.append(label_ids)\n",
    "            predictions = expit(np.vstack(predictions))\n",
    "            true_labels = np.concatenate(true_labels)\n",
    "            assert len(true_labels) == len(predictions)\n",
    "            recs = []\n",
    "            for idx, l, row in zip(test_ids, true_labels, predictions):\n",
    "                gt = i2l[np.argmax(l)]\n",
    "                pred = i2l[np.argmax(row)]\n",
    "                recs.append( (idx, gt, pred) )\n",
    "\n",
    "            out_fname = out_dir / f'{task_name}.jsonl'\n",
    "            with open(out_fname, 'w') as fw:\n",
    "                for rec in recs:\n",
    "                    data = {index_id:rec[0], label_id:rec[2]}\n",
    "                    json.dump(data, fw, ensure_ascii=False)\n",
    "                    fw.write('\\n')\n"
   ]
  },
  {
   "cell_type": "code",
   "execution_count": 20,
   "id": "2f6906dd",
   "metadata": {},
   "outputs": [
    {
     "data": {
      "text/plain": [
       "{0: 80.859375}"
      ]
     },
     "execution_count": 20,
     "metadata": {},
     "output_type": "execute_result"
    }
   ],
   "source": [
    "cv_res"
   ]
  },
  {
   "cell_type": "code",
   "execution_count": null,
   "id": "50c6a6bd",
   "metadata": {},
   "outputs": [],
   "source": []
  },
  {
   "cell_type": "code",
   "execution_count": null,
   "id": "9c3032da",
   "metadata": {},
   "outputs": [],
   "source": []
  },
  {
   "cell_type": "code",
   "execution_count": null,
   "id": "f47b3c39",
   "metadata": {},
   "outputs": [],
   "source": []
  },
  {
   "cell_type": "code",
   "execution_count": null,
   "id": "8b28dbb2",
   "metadata": {},
   "outputs": [],
   "source": []
  }
 ],
 "metadata": {
  "kernelspec": {
   "display_name": "rumed_torch",
   "language": "python",
   "name": "pytorch"
  },
  "language_info": {
   "codemirror_mode": {
    "name": "ipython",
    "version": 3
   },
   "file_extension": ".py",
   "mimetype": "text/x-python",
   "name": "python",
   "nbconvert_exporter": "python",
   "pygments_lexer": "ipython3",
   "version": "3.8.13"
  }
 },
 "nbformat": 4,
 "nbformat_minor": 5
}
