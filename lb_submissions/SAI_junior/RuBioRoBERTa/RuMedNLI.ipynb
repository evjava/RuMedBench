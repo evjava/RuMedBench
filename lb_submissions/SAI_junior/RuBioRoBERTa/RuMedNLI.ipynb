{
 "cells": [
  {
   "cell_type": "code",
   "execution_count": 1,
   "id": "6ffda83b",
   "metadata": {},
   "outputs": [],
   "source": [
    "# -*- coding: utf-8 -*-\n",
    "import gc\n",
    "import os\n",
    "os.environ['CUDA_VISIBLE_DEVICES'] = '1'\n",
    "import pandas as pd\n",
    "import numpy as np\n",
    "import json\n",
    "import click\n",
    "import pathlib\n",
    "import ipynb\n",
    "import random\n",
    "\n",
    "import torch\n",
    "from torch.utils.data import TensorDataset, DataLoader, RandomSampler, SequentialSampler\n",
    "\n",
    "from transformers import BertTokenizer, BertConfig, AutoTokenizer\n",
    "from transformers.optimization import AdamW\n",
    "\n",
    "from scipy.special import expit\n",
    "from keras.preprocessing.sequence import pad_sequences\n",
    "from sklearn import metrics"
   ]
  },
  {
   "cell_type": "code",
   "execution_count": 2,
   "id": "f5a1eb11",
   "metadata": {},
   "outputs": [],
   "source": [
    "def seed_everything(seed):\n",
    "    random.seed(seed)\n",
    "    os.environ['PYTHONHASHSEED'] = str(seed)\n",
    "    np.random.seed(seed)\n",
    "    torch.manual_seed(seed)\n",
    "    torch.cuda.manual_seed_all(seed)\n",
    "    torch.cuda.manual_seed(seed)\n",
    "    torch.backends.cudnn.deterministic = True\n",
    "    torch.backends.cudnn.benchmark = False\n",
    "\n",
    "def seed_worker(worker_id):\n",
    "    worker_seed = torch.initial_seed() % 2**32\n",
    "    np.random.seed(worker_seed)\n",
    "    random.seed(worker_seed)"
   ]
  },
  {
   "cell_type": "code",
   "execution_count": 3,
   "id": "b023fec8",
   "metadata": {},
   "outputs": [],
   "source": [
    "import warnings\n",
    "warnings.filterwarnings('ignore')\n",
    "warnings.simplefilter('ignore')"
   ]
  },
  {
   "cell_type": "code",
   "execution_count": 4,
   "id": "c20377fd",
   "metadata": {},
   "outputs": [],
   "source": [
    "from transformers import RobertaForSequenceClassification"
   ]
  },
  {
   "cell_type": "code",
   "execution_count": 5,
   "id": "bfb03005",
   "metadata": {},
   "outputs": [],
   "source": [
    "def encode_text_pairs(tokenizer, sentences):\n",
    "    bs = 20000\n",
    "    input_ids, attention_masks, token_type_ids = [], [], []\n",
    "    \n",
    "    text1_max = int(MAX_LEN*.75)\n",
    "    for _, i in enumerate(range(0, len(sentences), bs)):\n",
    "        tokenized_texts = []\n",
    "        for sentence in sentences[i:i+bs]:\n",
    "            p1 = ['']+tokenizer.tokenize( sentence[0] )\n",
    "            p2 = ['']+tokenizer.tokenize( sentence[1] )+['']\n",
    "            text2_max = MAX_LEN-len(p1[:text1_max])\n",
    "            final_tokens = p1[:text1_max]+p2[:text2_max]\n",
    "            arr = np.array(final_tokens)\n",
    "            tokenized_texts.append(final_tokens)\n",
    "\n",
    "        b_input_ids = [tokenizer.convert_tokens_to_ids(x) for x in tokenized_texts]\n",
    "\n",
    "        b_input_ids = pad_sequences(b_input_ids, maxlen=MAX_LEN, dtype='long', truncating='post', padding='post')\n",
    "\n",
    "        b_token_type_ids = []\n",
    "        for i, row in enumerate(b_input_ids):\n",
    "            row = np.array(row)\n",
    "            mask = row==tokenizer.convert_tokens_to_ids('')\n",
    "            idx = np.where(mask)[0][0]\n",
    "            idx1 = np.where(mask)[0][1]\n",
    "            token_type_row = np.zeros(row.shape[0], dtype=np.int)\n",
    "            token_type_row[idx+1:idx1+1] = 1\n",
    "            b_token_type_ids.append(token_type_row)\n",
    "\n",
    "        b_attention_masks = []\n",
    "        for seq in b_input_ids:\n",
    "            seq_mask = [float(i>0) for i in seq]\n",
    "            b_attention_masks.append(seq_mask)\n",
    "\n",
    "        attention_masks.append(b_attention_masks)\n",
    "        input_ids.append(b_input_ids)\n",
    "        token_type_ids.append(b_token_type_ids)\n",
    "    input_ids, attention_masks = np.vstack(input_ids), np.vstack(attention_masks)\n",
    "    token_type_ids = np.vstack(token_type_ids)\n",
    "\n",
    "    return input_ids, attention_masks, token_type_ids"
   ]
  },
  {
   "cell_type": "code",
   "execution_count": 6,
   "id": "942a29fc",
   "metadata": {},
   "outputs": [
    {
     "name": "stderr",
     "output_type": "stream",
     "text": [
      "Some weights of the model checkpoint at alexyalunin/RuBioRoBERTa were not used when initializing RobertaForSequenceClassification: ['lm_head.dense.weight', 'lm_head.dense.bias', 'lm_head.layer_norm.weight', 'lm_head.bias', 'lm_head.layer_norm.bias']\n",
      "- This IS expected if you are initializing RobertaForSequenceClassification from the checkpoint of a model trained on another task or with another architecture (e.g. initializing a BertForSequenceClassification model from a BertForPreTraining model).\n",
      "- This IS NOT expected if you are initializing RobertaForSequenceClassification from the checkpoint of a model that you expect to be exactly identical (initializing a BertForSequenceClassification model from a BertForSequenceClassification model).\n",
      "Some weights of RobertaForSequenceClassification were not initialized from the model checkpoint at alexyalunin/RuBioRoBERTa and are newly initialized: ['classifier.out_proj.bias', 'classifier.dense.weight', 'classifier.dense.bias', 'classifier.out_proj.weight']\n",
      "You should probably TRAIN this model on a down-stream task to be able to use it for predictions and inference.\n"
     ]
    }
   ],
   "source": [
    "tokenizer = AutoTokenizer.from_pretrained(\"alexyalunin/RuBioRoBERTa\")\n",
    "model = RobertaForSequenceClassification.from_pretrained('alexyalunin/RuBioRoBERTa', num_labels=3)"
   ]
  },
  {
   "cell_type": "code",
   "execution_count": 7,
   "id": "a4053ebd",
   "metadata": {},
   "outputs": [],
   "source": [
    "SEED = 128\n",
    "seed_everything(SEED)\n",
    "MAX_LEN = 512"
   ]
  },
  {
   "cell_type": "code",
   "execution_count": 8,
   "id": "338e9b0e",
   "metadata": {},
   "outputs": [],
   "source": [
    "device = \"cuda\" if torch.cuda.is_available() else \"cpu\""
   ]
  },
  {
   "cell_type": "code",
   "execution_count": 9,
   "id": "3ebc7193",
   "metadata": {},
   "outputs": [],
   "source": [
    "task_name = 'RuMedNLI'\n",
    "\n",
    "parts = ['train', 'dev', 'test']\n",
    "\n",
    "l2i = {'neutral': 0, 'entailment':1, 'contradiction': 2}\n",
    "text1_id, text2_id, label_id, index_id = 'ru_sentence1', 'ru_sentence2', 'gold_label', 'pairID'\n",
    "    \n",
    "dummy_label = list(l2i.keys())[0]"
   ]
  },
  {
   "cell_type": "code",
   "execution_count": 10,
   "id": "e4c118a1",
   "metadata": {},
   "outputs": [],
   "source": [
    "part2indices = {p:set() for p in parts}\n",
    "all_ids, sentences, labels = [], [], []\n",
    "for p in parts:\n",
    "    fname = '{}.jsonl'.format(p)\n",
    "    with open(fname) as f:\n",
    "        for line in f:\n",
    "            data = json.loads(line)\n",
    "            s1, s2 = data[text1_id], data[text2_id]\n",
    "            sentences.append( (s1, s2) )\n",
    "            labels.append( data.get(label_id, dummy_label) )\n",
    "            idx = data[index_id]\n",
    "            all_ids.append( idx )\n",
    "            part2indices[p].add( idx )\n",
    "all_ids = np.array(all_ids)"
   ]
  },
  {
   "cell_type": "code",
   "execution_count": 11,
   "id": "39bade11",
   "metadata": {},
   "outputs": [],
   "source": [
    "i2l = {l2i[l]:l for l in l2i}"
   ]
  },
  {
   "cell_type": "code",
   "execution_count": 12,
   "id": "3feaf344",
   "metadata": {},
   "outputs": [],
   "source": [
    "input_ids, attention_masks, token_type_ids = encode_text_pairs(tokenizer, sentences)"
   ]
  },
  {
   "cell_type": "code",
   "execution_count": 13,
   "id": "726ff850",
   "metadata": {},
   "outputs": [],
   "source": [
    "label_indices = np.array([l2i[l] for l in labels])"
   ]
  },
  {
   "cell_type": "code",
   "execution_count": 14,
   "id": "8f594f25",
   "metadata": {},
   "outputs": [],
   "source": [
    "labels = np.zeros((input_ids.shape[0], len(l2i)))\n",
    "for _, i in enumerate(label_indices):\n",
    "    labels[_, i] = 1"
   ]
  },
  {
   "cell_type": "code",
   "execution_count": 15,
   "id": "aa29eafc",
   "metadata": {},
   "outputs": [],
   "source": [
    " # prepare test data loader\n",
    "test_ids = part2indices['test']\n",
    "test_mask = np.array([sid in test_ids for sid in all_ids])\n",
    "test_ids = all_ids[test_mask]\n",
    "tst_inputs, tst_masks, tst_labels = input_ids[test_mask], attention_masks[test_mask], labels[test_mask]\n",
    "tst_type_ids_dev = token_type_ids[test_mask]"
   ]
  },
  {
   "cell_type": "code",
   "execution_count": 16,
   "id": "b8927606",
   "metadata": {},
   "outputs": [],
   "source": [
    "tst_inputs = torch.tensor(tst_inputs)\n",
    "tst_masks = torch.tensor(tst_masks)\n",
    "tst_labels = torch.tensor(tst_labels)\n",
    "tst_type_ids_dev = torch.tensor(tst_type_ids_dev)"
   ]
  },
  {
   "cell_type": "code",
   "execution_count": 17,
   "id": "a5d50cf9",
   "metadata": {},
   "outputs": [],
   "source": [
    "test_data = TensorDataset(tst_inputs, tst_masks, tst_type_ids_dev, tst_labels)\n",
    "test_sampler = SequentialSampler(test_data)\n",
    "test_dataloader = DataLoader(test_data, sampler=test_sampler, batch_size=8, worker_init_fn=seed_worker)"
   ]
  },
  {
   "cell_type": "code",
   "execution_count": 18,
   "id": "2a09eee1",
   "metadata": {},
   "outputs": [],
   "source": [
    "batch_size = 16\n",
    "epochs = 25\n",
    "lr = 3e-5\n",
    "max_grad_norm = 1.0"
   ]
  },
  {
   "cell_type": "code",
   "execution_count": 19,
   "id": "1cac5964",
   "metadata": {},
   "outputs": [],
   "source": [
    "cv_res = {}"
   ]
  },
  {
   "cell_type": "code",
   "execution_count": 20,
   "id": "87de6068",
   "metadata": {},
   "outputs": [
    {
     "name": "stdout",
     "output_type": "stream",
     "text": [
      "fold 0 (12627, 512) (1422, 512)\n",
      "\n",
      "RuMedNLI epoch 0 average train_loss: 0.550960\tdev_loss: 0.401332\tdev_acc 72.78\n",
      "\n",
      "RuMedNLI epoch 1 average train_loss: 0.355958\tdev_loss: 0.326261\tdev_acc 78.83\n",
      "\n",
      "RuMedNLI epoch 2 average train_loss: 0.277377\tdev_loss: 0.304201\tdev_acc 81.93\n",
      "\n",
      "RuMedNLI epoch 3 average train_loss: 0.224001\tdev_loss: 0.350396\tdev_acc 82.98\n",
      "\n",
      "RuMedNLI epoch 4 average train_loss: 0.189477\tdev_loss: 0.419445\tdev_acc 80.66\n",
      "\n",
      "RuMedNLI epoch 5 average train_loss: 0.175389\tdev_loss: 0.385219\tdev_acc 80.17\n",
      "\n",
      "RuMedNLI epoch 6 average train_loss: 0.160184\tdev_loss: 0.458124\tdev_acc 81.01\n",
      "\n",
      "RuMedNLI epoch 7 average train_loss: 0.146178\tdev_loss: 0.442341\tdev_acc 82.00\n",
      "\n",
      "RuMedNLI epoch 8 average train_loss: 0.132036\tdev_loss: 0.454635\tdev_acc 81.43\n",
      "\n",
      "RuMedNLI epoch 9 average train_loss: 0.102002\tdev_loss: 0.568584\tdev_acc 81.79\n",
      "\n",
      "RuMedNLI epoch 10 average train_loss: 0.093171\tdev_loss: 0.507374\tdev_acc 81.72\n",
      "\n",
      "RuMedNLI epoch 11 average train_loss: 0.077664\tdev_loss: 0.629594\tdev_acc 81.29\n",
      "\n",
      "RuMedNLI epoch 12 average train_loss: 0.058655\tdev_loss: 0.649337\tdev_acc 81.72\n",
      "\n",
      "RuMedNLI epoch 13 average train_loss: 0.045615\tdev_loss: 0.704629\tdev_acc 81.93\n",
      "\n",
      "RuMedNLI epoch 14 average train_loss: 0.037371\tdev_loss: 0.673335\tdev_acc 82.84\n",
      "\n",
      "RuMedNLI epoch 15 average train_loss: 0.026913\tdev_loss: 0.793246\tdev_acc 82.56\n",
      "\n",
      "RuMedNLI epoch 16 average train_loss: 0.017777\tdev_loss: 0.807550\tdev_acc 82.63\n",
      "\n",
      "RuMedNLI epoch 17 average train_loss: 0.016036\tdev_loss: 0.778703\tdev_acc 82.77\n",
      "\n",
      "RuMedNLI epoch 18 average train_loss: 0.011137\tdev_loss: 0.820511\tdev_acc 83.54\n",
      "\n",
      "RuMedNLI epoch 19 average train_loss: 0.005269\tdev_loss: 0.841060\tdev_acc 83.40\n",
      "\n",
      "RuMedNLI epoch 20 average train_loss: 0.003546\tdev_loss: 0.853443\tdev_acc 83.61\n",
      "\n",
      "RuMedNLI epoch 21 average train_loss: 0.002092\tdev_loss: 0.871577\tdev_acc 83.54\n",
      "\n",
      "RuMedNLI epoch 22 average train_loss: 0.002223\tdev_loss: 0.869804\tdev_acc 83.40\n",
      "\n",
      "RuMedNLI epoch 23 average train_loss: 0.001376\tdev_loss: 0.872809\tdev_acc 83.47\n",
      "\n",
      "RuMedNLI epoch 24 average train_loss: 0.001399\tdev_loss: 0.874149\tdev_acc 83.40\n"
     ]
    }
   ],
   "source": [
    "for fold in range(1):\n",
    "    best_dev_score = -1\n",
    "    seed_everything(SEED)\n",
    "    train_ids = part2indices['train']\n",
    "    dev_ids = part2indices['dev']\n",
    "\n",
    "    train_mask = np.array([sid in train_ids for sid in all_ids])\n",
    "    dev_mask = np.array([sid in dev_ids for sid in all_ids])\n",
    "\n",
    "    input_ids_train, attention_masks_train, labels_train = input_ids[train_mask], attention_masks[train_mask], labels[train_mask]\n",
    "    token_type_ids_train = token_type_ids[train_mask]\n",
    "    input_ids_dev, attention_masks_dev, labels_dev = input_ids[dev_mask], attention_masks[dev_mask], labels[dev_mask]\n",
    "    token_type_ids_dev = token_type_ids[dev_mask]\n",
    "    print ('fold', fold, input_ids_train.shape, input_ids_dev.shape)\n",
    "\n",
    "    input_ids_train = torch.tensor(input_ids_train)\n",
    "    attention_masks_train = torch.tensor(attention_masks_train)\n",
    "    labels_train = torch.tensor(labels_train)\n",
    "    token_type_ids_train = torch.tensor(token_type_ids_train)\n",
    "\n",
    "    train_data = TensorDataset(input_ids_train, attention_masks_train, token_type_ids_train, labels_train)\n",
    "    train_sampler = RandomSampler(train_data)\n",
    "    train_dataloader = DataLoader(train_data, sampler=train_sampler, batch_size=batch_size, worker_init_fn=seed_worker)\n",
    "\n",
    "    ##prediction_dataloader\n",
    "    input_ids_dev = torch.tensor(input_ids_dev)\n",
    "    attention_masks_dev = torch.tensor(attention_masks_dev)\n",
    "    labels_dev = torch.tensor(labels_dev)\n",
    "    token_type_ids_dev = torch.tensor(token_type_ids_dev)\n",
    "\n",
    "    prediction_data = TensorDataset(input_ids_dev, attention_masks_dev, token_type_ids_dev, labels_dev)\n",
    "    prediction_sampler = SequentialSampler(prediction_data)\n",
    "    prediction_dataloader = DataLoader(prediction_data, sampler=prediction_sampler, batch_size=batch_size, worker_init_fn=seed_worker)\n",
    "\n",
    "    model = model.to(device)\n",
    "\n",
    "    param_optimizer = list(model.named_parameters())\n",
    "    no_decay = ['bias', 'gamma', 'beta']\n",
    "    optimizer_grouped_parameters = [\n",
    "        {'params': [p for n, p in param_optimizer if not any(nd in n for nd in no_decay)], 'weight_decay_rate': 0.01},\n",
    "        {'params': [p for n, p in param_optimizer if any(nd in n for nd in no_decay)], 'weight_decay_rate': 0.0}\n",
    "    ]\n",
    "\n",
    "    # This variable contains all of the hyperparemeter information our training loop needs\n",
    "    optimizer = AdamW(optimizer_grouped_parameters, lr=lr, correct_bias=False)\n",
    "    scheduler = torch.optim.lr_scheduler.OneCycleLR(optimizer, max_lr=lr, steps_per_epoch=len(train_dataloader), epochs=epochs)\n",
    "\n",
    "    train_loss = []\n",
    "    for _ in range(epochs):\n",
    "        model.train(); torch.cuda.empty_cache()\n",
    "        tr_loss = 0\n",
    "        nb_tr_examples, nb_tr_steps = 0, 0\n",
    "        for step, batch in enumerate(train_dataloader):\n",
    "            batch = tuple(t.to(device) for t in batch)\n",
    "            b_input_ids, b_input_mask, b_token_type_ids, b_labels = batch\n",
    "            b_input_ids, b_input_mask, b_token_type_ids, b_labels = torch.tensor(b_input_ids).to(device), \\\n",
    "            torch.tensor(b_input_mask).to(device), \\\n",
    "            torch.tensor(b_token_type_ids).to(device), \\\n",
    "            torch.tensor(b_labels).to(device)\n",
    "\n",
    "            optimizer.zero_grad()\n",
    "\n",
    "            outputs = model( b_input_ids, attention_mask=b_input_mask, labels=b_labels )\n",
    "            loss, logits = outputs[:2]\n",
    "            train_loss.append(loss.item())\n",
    "            loss.backward()\n",
    "            torch.nn.utils.clip_grad_norm_(model.parameters(), max_grad_norm)\n",
    "            optimizer.step()\n",
    "            scheduler.step()\n",
    "\n",
    "            tr_loss += loss.item()\n",
    "            nb_tr_examples += b_input_ids.size(0)\n",
    "            nb_tr_steps += 1\n",
    "        avg_train_loss = tr_loss/nb_tr_steps\n",
    "\n",
    "        ### val\n",
    "        model.eval()\n",
    "        predictions = []\n",
    "        tr_loss, nb_tr_steps = 0, 0\n",
    "        for step, batch in enumerate(prediction_dataloader):\n",
    "            batch = tuple(t.to(device) for t in batch)\n",
    "            b_input_ids, b_input_mask, b_token_type_ids, b_labels = batch\n",
    "            with torch.no_grad():\n",
    "                outputs = model( b_input_ids, attention_mask=b_input_mask, labels=b_labels )\n",
    "                loss, logits = outputs[:2]\n",
    "                tr_loss += loss.item()\n",
    "                nb_tr_steps += 1\n",
    "            logits = logits.detach().cpu().numpy()\n",
    "            predictions.append(logits)\n",
    "        predictions = expit(np.vstack(predictions))\n",
    "        edev_loss = tr_loss/nb_tr_steps\n",
    "\n",
    "        y_indices, pred = np.argmax(labels_dev, axis=1), np.argmax(predictions, axis=1)\n",
    "        dev_acc = metrics.accuracy_score(y_indices, pred)*100\n",
    "        print()\n",
    "        print ('{} epoch {} average train_loss: {:.6f}\\tdev_loss: {:.6f}\\tdev_acc {:.2f}'.format(task_name, _, avg_train_loss, edev_loss, dev_acc))\n",
    "\n",
    "        if dev_acc>best_dev_score: # compute result for test part and store to out file, if we found better model\n",
    "            best_dev_score = dev_acc\n",
    "            cv_res[fold] = (best_dev_score)\n",
    "\n",
    "            predictions, true_labels = [], []\n",
    "            for batch in test_dataloader:\n",
    "                batch = tuple(t.to(device) for t in batch)\n",
    "                b_input_ids, b_input_mask, b_token_type_ids, b_labels = batch\n",
    "                with torch.no_grad():\n",
    "                    outputs = model( b_input_ids, attention_mask=b_input_mask, labels=b_labels )\n",
    "\n",
    "                logits = outputs[1].detach().cpu().numpy()\n",
    "                label_ids = b_labels.to('cpu').numpy()\n",
    "                predictions.append(logits)\n",
    "                true_labels.append(label_ids)\n",
    "            predictions = expit(np.vstack(predictions))\n",
    "            true_labels = np.concatenate(true_labels)\n",
    "            assert len(true_labels) == len(predictions)\n",
    "            recs = []\n",
    "            for idx, l, row in zip(test_ids, true_labels, predictions):\n",
    "                gt = i2l[np.argmax(l)]\n",
    "                pred = i2l[np.argmax(row)]\n",
    "                recs.append( (idx, gt, pred) )\n",
    "\n",
    "            out_fname = f'{task_name}.jsonl'\n",
    "            with open(out_fname, 'w') as fw:\n",
    "                for rec in recs:\n",
    "                    data = {index_id:rec[0], label_id:rec[2]}\n",
    "                    json.dump(data, fw, ensure_ascii=False)\n",
    "                    fw.write('\\n')\n"
   ]
  },
  {
   "cell_type": "code",
   "execution_count": 1,
   "id": "22877b5a",
   "metadata": {},
   "outputs": [
    {
     "name": "stdout",
     "output_type": "stream",
     "text": [
      "  adding: RuMedNLI.jsonl (deflated 71%)\r\n"
     ]
    }
   ],
   "source": [
    "!zip -r solution.zip RuMedNLI.jsonl"
   ]
  },
  {
   "cell_type": "code",
   "execution_count": null,
   "id": "a7fdb9ca",
   "metadata": {},
   "outputs": [],
   "source": []
  },
  {
   "cell_type": "code",
   "execution_count": null,
   "id": "d7736303",
   "metadata": {},
   "outputs": [],
   "source": []
  },
  {
   "cell_type": "code",
   "execution_count": null,
   "id": "b772da40",
   "metadata": {},
   "outputs": [],
   "source": []
  },
  {
   "cell_type": "code",
   "execution_count": null,
   "id": "7d114e1f",
   "metadata": {},
   "outputs": [],
   "source": []
  },
  {
   "cell_type": "code",
   "execution_count": null,
   "id": "29ae855a",
   "metadata": {},
   "outputs": [],
   "source": []
  },
  {
   "cell_type": "code",
   "execution_count": null,
   "id": "b6557379",
   "metadata": {},
   "outputs": [],
   "source": []
  },
  {
   "cell_type": "code",
   "execution_count": null,
   "id": "492ea124",
   "metadata": {},
   "outputs": [],
   "source": []
  },
  {
   "cell_type": "code",
   "execution_count": null,
   "id": "b76ab795",
   "metadata": {},
   "outputs": [],
   "source": []
  }
 ],
 "metadata": {
  "kernelspec": {
   "display_name": "rumed_torch",
   "language": "python",
   "name": "pytorch"
  },
  "language_info": {
   "codemirror_mode": {
    "name": "ipython",
    "version": 3
   },
   "file_extension": ".py",
   "mimetype": "text/x-python",
   "name": "python",
   "nbconvert_exporter": "python",
   "pygments_lexer": "ipython3",
   "version": "3.8.13"
  }
 },
 "nbformat": 4,
 "nbformat_minor": 5
}
