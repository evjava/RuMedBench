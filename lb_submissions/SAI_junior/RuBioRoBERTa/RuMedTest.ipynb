{
 "cells": [
  {
   "cell_type": "code",
   "execution_count": 2,
   "id": "4ef97892",
   "metadata": {},
   "outputs": [],
   "source": [
    "# -*- coding: utf-8 -*-\n",
    "import os\n",
    "os.environ['CUDA_VISIBLE_DEVICES'] = '1'\n",
    "import pandas as pd\n",
    "import numpy as np\n",
    "import json\n",
    "import pathlib\n",
    "import random\n",
    "import zipfile\n",
    "\n",
    "import torch\n",
    "from torch.utils.data import TensorDataset, DataLoader, RandomSampler, SequentialSampler\n",
    "\n",
    "from transformers import BertTokenizer, BertConfig, AutoTokenizer\n",
    "from transformers.optimization import AdamW\n",
    "\n",
    "from scipy.special import expit\n",
    "from keras.preprocessing.sequence import pad_sequences\n",
    "from sklearn import metrics\n",
    "\n",
    "from sklearn.metrics.pairwise import cosine_similarity"
   ]
  },
  {
   "cell_type": "code",
   "execution_count": 3,
   "id": "2c92a497",
   "metadata": {},
   "outputs": [],
   "source": [
    "def seed_everything(seed):\n",
    "    random.seed(seed)\n",
    "    os.environ['PYTHONHASHSEED'] = str(seed)\n",
    "    np.random.seed(seed)\n",
    "    torch.manual_seed(seed)\n",
    "    torch.cuda.manual_seed_all(seed)\n",
    "    torch.cuda.manual_seed(seed)\n",
    "    torch.backends.cudnn.deterministic = True\n",
    "    torch.backends.cudnn.benchmark = False\n",
    "\n",
    "def seed_worker(worker_id):\n",
    "    worker_seed = torch.initial_seed() % 2**32\n",
    "    np.random.seed(worker_seed)\n",
    "    random.seed(worker_seed)"
   ]
  },
  {
   "cell_type": "code",
   "execution_count": 4,
   "id": "6c846030",
   "metadata": {},
   "outputs": [],
   "source": [
    "def encode_text_pairs(tokenizer, sentences):\n",
    "    bs = 20000\n",
    "    input_ids, attention_masks, token_type_ids = [], [], []\n",
    "    \n",
    "    for _, i in enumerate(range(0, len(sentences), bs)):\n",
    "        tokenized_texts = []\n",
    "        for sentence in sentences[i:i+bs]:\n",
    "            final_tokens = ['']+tokenizer.tokenize( sentence )[:MAX_LEN-2]+['']\n",
    "            arr = np.array(final_tokens)\n",
    "            tokenized_texts.append(final_tokens)\n",
    "\n",
    "        b_input_ids = [tokenizer.convert_tokens_to_ids(x) for x in tokenized_texts]\n",
    "\n",
    "        b_input_ids = pad_sequences(b_input_ids, maxlen=MAX_LEN, dtype='long', truncating='post', padding='post')\n",
    "\n",
    "        b_token_type_ids = []\n",
    "        for i, row in enumerate(b_input_ids):\n",
    "            row = np.array(row)\n",
    "            mask = row==tokenizer.convert_tokens_to_ids('')\n",
    "            idx = np.where(mask)[0][0]\n",
    "            token_type_row = np.zeros(row.shape[0], dtype=np.int)\n",
    "            b_token_type_ids.append(token_type_row)\n",
    "\n",
    "        b_attention_masks = []\n",
    "        for seq in b_input_ids:\n",
    "            seq_mask = [float(i>0) for i in seq]\n",
    "            b_attention_masks.append(seq_mask)\n",
    "\n",
    "        attention_masks.append(b_attention_masks)\n",
    "        input_ids.append(b_input_ids)\n",
    "        token_type_ids.append(b_token_type_ids)\n",
    "    input_ids, attention_masks = np.vstack(input_ids), np.vstack(attention_masks)\n",
    "    token_type_ids = np.vstack(token_type_ids)\n",
    "\n",
    "    return input_ids, attention_masks, token_type_ids"
   ]
  },
  {
   "cell_type": "code",
   "execution_count": 5,
   "id": "f6731531",
   "metadata": {},
   "outputs": [],
   "source": [
    "SEED = 128\n",
    "seed_everything(SEED)"
   ]
  },
  {
   "cell_type": "code",
   "execution_count": 6,
   "id": "cf30a122",
   "metadata": {},
   "outputs": [],
   "source": [
    "MAX_LEN = 512"
   ]
  },
  {
   "cell_type": "code",
   "execution_count": 7,
   "id": "267491d5",
   "metadata": {},
   "outputs": [],
   "source": [
    "task_name = 'RuMedTest'\n",
    "data_file_name = 'test.jsonl'"
   ]
  },
  {
   "cell_type": "code",
   "execution_count": 8,
   "id": "11e1703e",
   "metadata": {},
   "outputs": [],
   "source": [
    "device = \"cuda\" if torch.cuda.is_available() else \"cpu\""
   ]
  },
  {
   "cell_type": "code",
   "execution_count": 8,
   "id": "0dfe12ba",
   "metadata": {},
   "outputs": [],
   "source": [
    "if device == -1:\n",
    "    device = torch.device('cpu')\n",
    "else:\n",
    "    device = torch.device(device)"
   ]
  },
  {
   "cell_type": "code",
   "execution_count": 9,
   "id": "895607d2",
   "metadata": {},
   "outputs": [],
   "source": [
    "out_path = pathlib.Path('.').absolute()"
   ]
  },
  {
   "cell_type": "code",
   "execution_count": 10,
   "id": "d8b5e72a",
   "metadata": {},
   "outputs": [],
   "source": [
    "data_path = pathlib.Path().absolute()"
   ]
  },
  {
   "cell_type": "code",
   "execution_count": 11,
   "id": "5582b4e8",
   "metadata": {},
   "outputs": [],
   "source": [
    "data_path = data_path.parent.parent.parent / task_name / data_file_name"
   ]
  },
  {
   "cell_type": "code",
   "execution_count": 12,
   "id": "95ac61aa",
   "metadata": {},
   "outputs": [],
   "source": [
    "test_data = pd.read_json(data_path, lines=True)"
   ]
  },
  {
   "cell_type": "code",
   "execution_count": 13,
   "id": "1affb0e2",
   "metadata": {},
   "outputs": [],
   "source": [
    "index_id = 'idx'\n",
    "if task_name == 'RuMedTest':\n",
    "    options = ['1', '2', '3', '4']\n",
    "    question_id = 'question'\n",
    "    label_id = 'answer'\n",
    "else:\n",
    "    raise ValueError('unknown task')"
   ]
  },
  {
   "cell_type": "code",
   "execution_count": 14,
   "id": "c03d002b",
   "metadata": {},
   "outputs": [],
   "source": [
    "tokenizer = AutoTokenizer.from_pretrained(\"alexyalunin/RuBioRoBERTa\")"
   ]
  },
  {
   "cell_type": "code",
   "execution_count": 15,
   "id": "bb611f01",
   "metadata": {},
   "outputs": [
    {
     "name": "stderr",
     "output_type": "stream",
     "text": [
      "Some weights of the model checkpoint at alexyalunin/RuBioRoBERTa were not used when initializing RobertaForTokenClassification: ['lm_head.layer_norm.weight', 'lm_head.dense.weight', 'lm_head.dense.bias', 'lm_head.layer_norm.bias', 'lm_head.bias']\n",
      "- This IS expected if you are initializing RobertaForTokenClassification from the checkpoint of a model trained on another task or with another architecture (e.g. initializing a BertForSequenceClassification model from a BertForPreTraining model).\n",
      "- This IS NOT expected if you are initializing RobertaForTokenClassification from the checkpoint of a model that you expect to be exactly identical (initializing a BertForSequenceClassification model from a BertForSequenceClassification model).\n",
      "Some weights of RobertaForTokenClassification were not initialized from the model checkpoint at alexyalunin/RuBioRoBERTa and are newly initialized: ['classifier.weight', 'classifier.bias']\n",
      "You should probably TRAIN this model on a down-stream task to be able to use it for predictions and inference.\n"
     ]
    }
   ],
   "source": [
    "from transformers import RobertaForSequenceClassification, RobertaForTokenClassification\n",
    "model = RobertaForTokenClassification.from_pretrained('alexyalunin/RuBioRoBERTa')"
   ]
  },
  {
   "cell_type": "code",
   "execution_count": 16,
   "id": "0da93101",
   "metadata": {},
   "outputs": [],
   "source": [
    "model = model.to(device)"
   ]
  },
  {
   "cell_type": "code",
   "execution_count": 17,
   "id": "a81a955d",
   "metadata": {},
   "outputs": [],
   "source": [
    "model.eval();"
   ]
  },
  {
   "cell_type": "code",
   "execution_count": 18,
   "id": "959e46d1",
   "metadata": {},
   "outputs": [],
   "source": [
    "def get_embeddings(texts):\n",
    "    input_ids, attention_masks, token_type_ids = encode_text_pairs(tokenizer, texts)\n",
    "    ##prediction_dataloader\n",
    "    input_ids = torch.tensor(input_ids)\n",
    "    attention_masks = torch.tensor(attention_masks)\n",
    "    token_type_ids = torch.tensor(token_type_ids)\n",
    "\n",
    "    batch_size = 16\n",
    "    prediction_data = TensorDataset(input_ids, attention_masks, token_type_ids)\n",
    "    prediction_sampler = SequentialSampler(prediction_data)\n",
    "    prediction_dataloader = DataLoader(prediction_data, sampler=prediction_sampler, batch_size=batch_size, worker_init_fn=seed_worker)\n",
    "\n",
    "    predictions = []\n",
    "    for step, batch in enumerate(prediction_dataloader):\n",
    "        batch = tuple(t.to(device) for t in batch)\n",
    "        b_input_ids, b_input_mask, b_token_type_ids = batch\n",
    "        with torch.no_grad():\n",
    "            outputs = model( b_input_ids, token_type_ids=b_token_type_ids, attention_mask=b_input_mask )[0]\n",
    "            outputs = outputs.detach().cpu().numpy()\n",
    "            predictions.append(outputs)\n",
    "    predictions = expit(np.vstack(predictions))\n",
    "    return predictions"
   ]
  },
  {
   "cell_type": "code",
   "execution_count": 19,
   "id": "399f7888",
   "metadata": {},
   "outputs": [],
   "source": [
    "q_vecs = get_embeddings(test_data['question'])"
   ]
  },
  {
   "cell_type": "code",
   "execution_count": 20,
   "id": "1bab4f1d",
   "metadata": {},
   "outputs": [],
   "source": [
    "nsamples, nx, ny = q_vecs.shape"
   ]
  },
  {
   "cell_type": "code",
   "execution_count": 21,
   "id": "7e0e097a",
   "metadata": {},
   "outputs": [],
   "source": [
    "d2_q_vecs = q_vecs.reshape((nsamples,nx*ny))"
   ]
  },
  {
   "cell_type": "code",
   "execution_count": 22,
   "id": "8f6c4355",
   "metadata": {},
   "outputs": [],
   "source": [
    "sims = []\n",
    "for option in options:\n",
    "    option_vecs = get_embeddings(test_data[option])\n",
    "    \n",
    "    nsamples, nx, ny = option_vecs.shape\n",
    "    d2_option_vecs = option_vecs.reshape((nsamples,nx*ny))\n",
    "    \n",
    "    sim = cosine_similarity(d2_q_vecs, d2_option_vecs).diagonal()\n",
    "    sims.append(sim)\n",
    "sims = np.array(sims).T"
   ]
  },
  {
   "cell_type": "code",
   "execution_count": 23,
   "id": "8e8fac98",
   "metadata": {},
   "outputs": [],
   "source": [
    "recs = []\n",
    "for i, pred in zip(test_data[index_id], sims):\n",
    "    recs.append( { index_id: i, label_id: str(1+np.argmax(pred)) } )"
   ]
  },
  {
   "cell_type": "code",
   "execution_count": 31,
   "id": "4329592a",
   "metadata": {},
   "outputs": [],
   "source": [
    "out_fname = out_path / f'{task_name}.jsonl'\n",
    "with open(out_fname, 'w') as fw:\n",
    "    for rec in recs:\n",
    "        json.dump(rec, fw, ensure_ascii=False)\n",
    "        fw.write('\\n')"
   ]
  },
  {
   "cell_type": "code",
   "execution_count": 15,
   "id": "f6a616bd",
   "metadata": {},
   "outputs": [],
   "source": [
    "from pathlib import Path\n",
    "\n",
    "directory = pathlib.Path().absolute()\n",
    "\n",
    "out_zip = zipfile.ZipFile('solutions.zip', 'w')\n",
    "\n",
    "pathlist = Path(directory).glob('*.jsonl')\n",
    "for path in pathlist:\n",
    "    out_zip.write(path.name, compress_type=zipfile.ZIP_DEFLATED)"
   ]
  },
  {
   "cell_type": "code",
   "execution_count": null,
   "id": "4fdec508",
   "metadata": {},
   "outputs": [],
   "source": []
  },
  {
   "cell_type": "code",
   "execution_count": null,
   "id": "d74d1b62",
   "metadata": {},
   "outputs": [],
   "source": []
  },
  {
   "cell_type": "code",
   "execution_count": null,
   "id": "4c44aadf",
   "metadata": {},
   "outputs": [],
   "source": []
  },
  {
   "cell_type": "code",
   "execution_count": null,
   "id": "ef65f5a9",
   "metadata": {},
   "outputs": [],
   "source": []
  },
  {
   "cell_type": "code",
   "execution_count": null,
   "id": "3f040c39",
   "metadata": {},
   "outputs": [],
   "source": []
  },
  {
   "cell_type": "code",
   "execution_count": null,
   "id": "eec22d5f",
   "metadata": {},
   "outputs": [],
   "source": []
  }
 ],
 "metadata": {
  "kernelspec": {
   "display_name": "rumed_torch",
   "language": "python",
   "name": "pytorch"
  },
  "language_info": {
   "codemirror_mode": {
    "name": "ipython",
    "version": 3
   },
   "file_extension": ".py",
   "mimetype": "text/x-python",
   "name": "python",
   "nbconvert_exporter": "python",
   "pygments_lexer": "ipython3",
   "version": "3.8.13"
  }
 },
 "nbformat": 4,
 "nbformat_minor": 5
}
